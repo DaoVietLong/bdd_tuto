{
 "cells": [
  {
   "cell_type": "markdown",
   "metadata": {},
   "source": [
    "# 1. Import Required Library"
   ]
  },
  {
   "cell_type": "code",
   "execution_count": 1,
   "metadata": {},
   "outputs": [],
   "source": [
    "import pandas as pd"
   ]
  },
  {
   "cell_type": "markdown",
   "metadata": {},
   "source": [
    "```\n",
    "Purpose:\n",
    "Pandas is a powerful Python library for data manipulation and analysis. \n",
    "\n",
    "It provides data structures like DataFrames which are essential for handling tabular data efficiently.\n",
    "```"
   ]
  },
  {
   "cell_type": "markdown",
   "metadata": {},
   "source": [
    "# 2. Define \"read_file\" Function"
   ]
  },
  {
   "cell_type": "code",
   "execution_count": 5,
   "metadata": {},
   "outputs": [],
   "source": [
    "# Read datas from files, return a DataFrame\n",
    "def read_file(filename, columns=None):\n",
    "    return pd.read_csv(filename, sep='\\t', header=None, names=columns)"
   ]
  },
  {
   "cell_type": "markdown",
   "metadata": {},
   "source": [
    "```\n",
    "Purpose: \n",
    "This function reads a tab-separated values (TSV) file and returns a pandas DataFrame\n",
    "```"
   ]
  },
  {
   "cell_type": "markdown",
   "metadata": {},
   "source": [
    "# 3.Merge datas into one DataFrame"
   ]
  },
  {
   "cell_type": "code",
   "execution_count": 8,
   "metadata": {},
   "outputs": [],
   "source": [
    "def denormalize(avions, pilotes, vols, clients, reservations):\n",
    "    # Merge datas into single DataFrame\n",
    "    vols_merged = vols.merge(pilotes, left_on='PilotID', right_on='PilotID', how='left')\n",
    "    \n",
    "    vols_merged = vols_merged.merge(avions, left_on='PlaneID', right_on='PlaneID', how='left')\n",
    "\n",
    "    vols_merged = vols_merged.merge(reservations, on='FlightID', how='left')\n",
    "    \n",
    "    vols_merged = vols_merged.merge(clients, on='ClientID', how='left')\n",
    "    return vols_merged"
   ]
  },
  {
   "cell_type": "markdown",
   "metadata": {},
   "source": [
    "```\n",
    "Purpose:\n",
    "Create a unified view that links flights to their respective pilots, airplanes, reservations, and clients\n",
    "```"
   ]
  },
  {
   "cell_type": "code",
   "execution_count": null,
   "metadata": {},
   "outputs": [],
   "source": [
    "vols_merged = vols.merge(pilotes, left_on='PilotID', right_on='PilotID', how='left')"
   ]
  },
  {
   "cell_type": "markdown",
   "metadata": {},
   "source": [
    "```\n",
    "Purpose: \n",
    "To include pilot information in the flight data.\n",
    "\n",
    "Result: \n",
    "Each flight entry now has the corresponding pilot details\n",
    "\n",
    "Key Columns:\n",
    "Left DataFrame (vols_data): PilotID\n",
    "Right DataFrame (pilotes_data): PilotID\n",
    "\n",
    "Type of Join:\n",
    "Left Join (how='left'): \n",
    "Retains all records from the left DataFrame (vols_data) and adds matching records from the right DataFrame (pilotes_data). If there's no match, the result will have NaN values for the right DataFrame's columns.\n",
    "```"
   ]
  },
  {
   "cell_type": "code",
   "execution_count": null,
   "metadata": {},
   "outputs": [],
   "source": [
    "vols_merged = vols_merged.merge(avions, left_on='PlaneID', right_on='PlaneID', how='left')"
   ]
  },
  {
   "cell_type": "markdown",
   "metadata": {},
   "source": [
    "```\n",
    "Purpose:\n",
    "To add details about the plane used for each flight.\n",
    "\n",
    "Result:\n",
    "Each flight entry now includes information about the aircraft model, capacity, and airline.\n",
    "\n",
    "Key Columns:\n",
    "Left DataFrame (vols_merged_pilotes): PlaneID\n",
    "Right DataFrame (avions_data): PlaneID\n",
    "\n",
    "Type of Join:\n",
    "Left Join (how='left'):\n",
    "Retains all records from the left DataFrame (vols_merged_pilotes) and adds matching records from the right DataFrame (avions_data). If there's no match, the result will have NaN values for the right DataFrame's columns.\n",
    "```"
   ]
  },
  {
   "cell_type": "code",
   "execution_count": null,
   "metadata": {},
   "outputs": [],
   "source": [
    "vols_merged = vols_merged.merge(reservations, on='FlightID', how='left')"
   ]
  },
  {
   "cell_type": "markdown",
   "metadata": {},
   "source": [
    "```\n",
    "Purpose: \n",
    "To attach reservation data to the flights.\n",
    "\n",
    "Result: \n",
    "Each flight entry now shows reservation details, linking clients with their booked flights.\n",
    "\n",
    "Key Columns:\n",
    "Left DataFrame (vols_merged_avions): FlightID\n",
    "Right DataFrame (reservations_data): FlightID\n",
    "\n",
    "Type of Join:\n",
    "Left Join (how='left'):\n",
    "Retains all records from the left DataFrame (vols_merged_pilotes) and adds matching records from the right DataFrame (reservations_data). If there's no match, the result will have NaN values for the right DataFrame's columns.\n",
    "```"
   ]
  },
  {
   "cell_type": "code",
   "execution_count": null,
   "metadata": {},
   "outputs": [],
   "source": [
    "vols_merged = vols_merged.merge(clients, on='ClientID', how='left')"
   ]
  },
  {
   "cell_type": "markdown",
   "metadata": {},
   "source": [
    "```\n",
    "Purpose: \n",
    "To include client information in the overall dataset.\n",
    "\n",
    "Result: \n",
    "Each flight entry now includes the client's name, address, and other details, creating a comprehensive view of each reservation.\n",
    "\n",
    "Key Columns:\n",
    "Left DataFrame (vols_merged_reservations): ClientID\n",
    "Right DataFrame (clients_data): ClientID\n",
    "\n",
    "Type of Join:\n",
    "Left Join (how='left'): \n",
    "Retains all records from the left DataFrame (vols_merged_reservations) and adds matching records from the right DataFrame (clients_data). If there's no match, the result will have NaN values for the right DataFrame's columns.\n",
    "```"
   ]
  },
  {
   "cell_type": "code",
   "execution_count": 9,
   "metadata": {},
   "outputs": [],
   "source": [
    "avions_columns = ['PlaneID', 'PlaneName', 'Capacity', 'Airline', 'Year']\n",
    "pilotes_columns = ['PilotID', 'PilotName', 'PilotExperience', 'Nationality', 'LicenseNumber']\n",
    "vols_columns = ['FlightID', 'Departure', 'Destination', 'DepDate', 'DepTime', 'ArrDate', 'ArrTime', 'PilotID', 'PlaneID']\n",
    "clients_columns = ['ClientID', 'ClientName', 'ClientSomething', 'ClientAddress', 'ClientPostcode', 'ClientNationality']\n",
    "reservations_columns = ['ClientID', 'FlightID', 'Class', 'NumberOfSeats']\n"
   ]
  },
  {
   "cell_type": "markdown",
   "metadata": {},
   "source": [
    "```\n",
    "Purpose:\n",
    "Define name for columns in DataFrame\n",
    "```"
   ]
  },
  {
   "cell_type": "code",
   "execution_count": 10,
   "metadata": {},
   "outputs": [],
   "source": [
    "avions_data = read_file(\"AVIONS.txt\", avions_columns)\n",
    "pilotes_data = read_file(\"PILOTES.txt\", pilotes_columns)\n",
    "vols_data = read_file(\"VOLS.txt\", vols_columns)\n",
    "clients_data = read_file(\"CLIENTS.txt\", clients_columns)\n",
    "reservations_data = read_file(\"RESERVATIONS.txt\", reservations_columns)"
   ]
  },
  {
   "cell_type": "markdown",
   "metadata": {},
   "source": [
    "```\n",
    "Purpose:\n",
    "Create DataFrame for each data file\n",
    "```"
   ]
  },
  {
   "cell_type": "code",
   "execution_count": 11,
   "metadata": {},
   "outputs": [],
   "source": [
    "denormalized_data = denormalize(avions_data, pilotes_data, vols_data, clients_data, reservations_data)"
   ]
  },
  {
   "cell_type": "markdown",
   "metadata": {},
   "source": [
    "```\n",
    "Purpose:\n",
    "Denormalize input datas\n",
    "```"
   ]
  },
  {
   "cell_type": "code",
   "execution_count": 12,
   "metadata": {},
   "outputs": [
    {
     "name": "stdout",
     "output_type": "stream",
     "text": [
      "    FlightID  Departure Destination   DepDate DepTime   ArrDate ArrTime  \\\n",
      "0       V101  Marseille   Amsterdam   1/04/07    8:10   1/04/07    9:10   \n",
      "1       V101  Marseille   Amsterdam   1/04/07    8:10   1/04/07    9:10   \n",
      "2       V101  Marseille   Amsterdam   1/04/07    8:10   1/04/07    9:10   \n",
      "3       V101  Marseille   Amsterdam   1/04/07    8:10   1/04/07    9:10   \n",
      "4       V101  Marseille   Amsterdam   1/04/07    8:10   1/04/07    9:10   \n",
      "..       ...        ...         ...       ...     ...       ...     ...   \n",
      "233     V925      Paris        Nice  25/04/07   22:00  25/04/07   23:15   \n",
      "234     V926      Paris        Nice  26/04/07   22:00  26/04/07   23:15   \n",
      "235     V927      Paris        Nice  27/04/07   22:00  27/04/07   23:15   \n",
      "236     V928      Paris        Nice  28/04/07   22:00  28/04/07   23:15   \n",
      "237     V929      Paris        Nice  29/04/07   22:00  29/04/07   23:15   \n",
      "\n",
      "     PilotID  PlaneID PilotName  ...  Airline Year  ClientID     Class  \\\n",
      "0       5050      560   Leblanc  ...     Nice  NaN    1031.0  Business   \n",
      "1       5050      560   Leblanc  ...     Nice  NaN    1027.0  Business   \n",
      "2       5050      560   Leblanc  ...     Nice  NaN    1031.0  Touriste   \n",
      "3       5050      560   Leblanc  ...     Nice  NaN    1033.0  Touriste   \n",
      "4       5050      560   Leblanc  ...     Nice  NaN    1028.0  Touriste   \n",
      "..       ...      ...       ...  ...      ...  ...       ...       ...   \n",
      "233     4020      240     Duval  ...    Paris  NaN       NaN       NaN   \n",
      "234     4020      240     Duval  ...    Paris  NaN       NaN       NaN   \n",
      "235     4020      240     Duval  ...    Paris  NaN       NaN       NaN   \n",
      "236     4020      240     Duval  ...    Paris  NaN       NaN       NaN   \n",
      "237     4020      240     Duval  ...    Paris  NaN       NaN       NaN   \n",
      "\n",
      "     NumberOfSeats ClientName  ClientSomething        ClientAddress  \\\n",
      "0              2.0       Bohr             12.0        Rue St Joseph   \n",
      "1              2.0    Lorentz             35.0  Rond Point Du Prado   \n",
      "2              5.0       Bohr             12.0        Rue St Joseph   \n",
      "3              7.0      Dirac              3.0         Rue St Louis   \n",
      "4              6.0     Lenard             45.0  Rond Point Du Prado   \n",
      "..             ...        ...              ...                  ...   \n",
      "233            NaN        NaN              NaN                  NaN   \n",
      "234            NaN        NaN              NaN                  NaN   \n",
      "235            NaN        NaN              NaN                  NaN   \n",
      "236            NaN        NaN              NaN                  NaN   \n",
      "237            NaN        NaN              NaN                  NaN   \n",
      "\n",
      "    ClientPostcode  ClientNationality  \n",
      "0          13014.0          Marseille  \n",
      "1          13008.0          Marseille  \n",
      "2          13014.0          Marseille  \n",
      "3          34000.0           Toulouse  \n",
      "4          13008.0          Marseille  \n",
      "..             ...                ...  \n",
      "233            NaN                NaN  \n",
      "234            NaN                NaN  \n",
      "235            NaN                NaN  \n",
      "236            NaN                NaN  \n",
      "237            NaN                NaN  \n",
      "\n",
      "[238 rows x 25 columns]\n"
     ]
    }
   ],
   "source": [
    "print(denormalized_data)"
   ]
  },
  {
   "cell_type": "markdown",
   "metadata": {},
   "source": [
    "```\n",
    "Purpose:\n",
    "Print datas to check\n",
    "```"
   ]
  },
  {
   "cell_type": "code",
   "execution_count": 13,
   "metadata": {},
   "outputs": [],
   "source": [
    "denormalized_data.to_json('denormalized_data.json', orient='records', lines=True)"
   ]
  },
  {
   "cell_type": "markdown",
   "metadata": {},
   "source": [
    "```\n",
    "Purpose:\n",
    "Convert datas to JSON format\n",
    "```"
   ]
  },
  {
   "cell_type": "markdown",
   "metadata": {},
   "source": [
    "```\n",
    "Parameter:\n",
    "denormalized_data.json':\n",
    "\n",
    "Description: \n",
    "The name of the output file where the JSON data will be saved. \n",
    "Purpose:\n",
    "Specifies the destination file name for the exported JSON data, making it identifiable for future use.\n",
    "```"
   ]
  },
  {
   "cell_type": "markdown",
   "metadata": {},
   "source": [
    "```\n",
    "Parameter:\n",
    "orient='records':\n",
    "\n",
    "Description: \n",
    "A parameter that determines the format of the JSON output.\n",
    "Purpose: \n",
    "When set to 'records', it structures the output as a list of dictionaries, where each dictionary corresponds to a row in the DataFrame. This format is user-friendly and facilitates easier manipulation of individual records in applications.\n",
    "```"
   ]
  },
  {
   "cell_type": "markdown",
   "metadata": {},
   "source": [
    "```\n",
    "Parameter:\n",
    "lines=True:\n",
    "\n",
    "Description: \n",
    "A parameter that indicates how to format the output when writing to the file.\n",
    "Purpose: \n",
    "When set to True, it outputs each record as a separate line in the JSON file. This is beneficial for processing large datasets, allowing for efficient line-by-line reading and easier data handling in streaming applications.\n",
    "```"
   ]
  }
 ],
 "metadata": {
  "kernelspec": {
   "display_name": "venv",
   "language": "python",
   "name": "python3"
  },
  "language_info": {
   "codemirror_mode": {
    "name": "ipython",
    "version": 3
   },
   "file_extension": ".py",
   "mimetype": "text/x-python",
   "name": "python",
   "nbconvert_exporter": "python",
   "pygments_lexer": "ipython3",
   "version": "3.12.3"
  }
 },
 "nbformat": 4,
 "nbformat_minor": 2
}
