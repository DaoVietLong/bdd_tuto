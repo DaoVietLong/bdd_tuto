{
 "cells": [
  {
   "cell_type": "markdown",
   "metadata": {},
   "source": [
    "<center>\n",
    "    <h1><font color=\"blue\">Mon super Rapport</font></h1>\n",
    "    <h2>Mon super nom d'étudiant ; mon numéro d'étudiant</h2>\n",
    "</center>"
   ]
  },
  {
   "cell_type": "markdown",
   "metadata": {},
   "source": [
    "# LEs TDS\n",
    "\n",
    "- les exercices des TDs avec en plus vos contextualisations, explications, etc."
   ]
  },
  {
   "cell_type": "markdown",
   "metadata": {},
   "source": [
    "# Cas d'usage\n",
    "\n",
    "Introduction - Why you conducted the practical work, and indicate your aim, hypothesis or research question.\n",
    "    Method - How you conducted the practical work and how any data processed.\n",
    "    Results - What was the data, process or product obtained from the practical work.\n",
    "    Discussion - How your results addressed your aim and hypothesis.\n",
    "    Conclusion -  What was the overall outcome of your practical work and how do your finding relate to the larger body of scientific knowledge."
   ]
  },
  {
   "cell_type": "markdown",
   "metadata": {},
   "source": [
    "## Introduction\n",
    "\n",
    "![poke.jpeg](poke.jpeg)\n",
    "\n",
    "- une app pour contrer Nintendo avec des pokemon choupi kawai\n",
    "- objectif : syphoner les données personnelles sous couvert d'apparence mignonne\n",
    "- bdd: il me faut de la vitesse car je repose sur le buzz / la hype de quelques jours seulement\n",
    "- Vitesse et fiabilité pour bien inscrire les données\n",
    "    - besoin d'accès rapide mais aussi de cohérence"
   ]
  },
  {
   "cell_type": "markdown",
   "metadata": {},
   "source": [
    "## Methode\n",
    "- NewSQL : cockroachDB\n",
    "- avec une implémentation orientée K V ; chercher le sans schéma \n",
    "- quelles données ? un exemple\n",
    "Pourquoi cette méthode ?\n",
    "- comparaison: c'est la milleure parceque...."
   ]
  },
  {
   "cell_type": "markdown",
   "metadata": {},
   "source": [
    "## Résultats\n",
    "- résultats de comparaisons --> POC\n",
    "\n",
    "![chart_dummy](chart_dummy.jpeg)"
   ]
  },
  {
   "cell_type": "code",
   "execution_count": null,
   "metadata": {},
   "outputs": [],
   "source": [
    "# exemple de code\n",
    "data_poc = {}\n",
    "# etc."
   ]
  },
  {
   "cell_type": "markdown",
   "metadata": {},
   "source": [
    "## Discussion\n",
    "- Finalement, CockroachDB serait utile uniquement si l'application dépasse les 3 jours de survie\n",
    "- pour une app uniquement prédatrice, les résultats montrent que MongoB suffirait amplement, jusqu'à X utilisateurs simulatanés"
   ]
  },
  {
   "cell_type": "markdown",
   "metadata": {},
   "source": [
    "## Conclusion\n",
    "Nous avons vu les méthodes les plus efficaces pour collecter à leur insu les données personnelles au sein d'une application ultra connectée"
   ]
  }
 ],
 "metadata": {
  "language_info": {
   "name": "python"
  }
 },
 "nbformat": 4,
 "nbformat_minor": 2
}
